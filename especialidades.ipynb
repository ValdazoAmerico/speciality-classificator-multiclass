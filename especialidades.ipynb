{
  "nbformat": 4,
  "nbformat_minor": 0,
  "metadata": {
    "colab": {
      "name": "especialidades.ipynb",
      "provenance": [],
      "collapsed_sections": [],
      "authorship_tag": "ABX9TyOOrNP3IvmfllcEq1UQRu2X",
      "include_colab_link": true
    },
    "kernelspec": {
      "name": "python3",
      "display_name": "Python 3"
    },
    "language_info": {
      "name": "python"
    }
  },
  "cells": [
    {
      "cell_type": "markdown",
      "metadata": {
        "id": "view-in-github",
        "colab_type": "text"
      },
      "source": [
        "<a href=\"https://colab.research.google.com/github/ValdazoAmerico/speciality-classificator-multiclass/blob/main/especialidades.ipynb\" target=\"_parent\"><img src=\"https://colab.research.google.com/assets/colab-badge.svg\" alt=\"Open In Colab\"/></a>"
      ]
    },
    {
      "cell_type": "code",
      "metadata": {
        "colab": {
          "base_uri": "https://localhost:8080/"
        },
        "id": "ka5YGktSYy3y",
        "outputId": "fffdd98c-1529-4e88-dd0c-6573a10497e3"
      },
      "source": [
        "# Load the Drive helper and mount\n",
        "from google.colab import drive\n",
        "\n",
        "# This will prompt for authorization.menos de 48hs de evolución\n",
        "drive.mount('/content/drive')"
      ],
      "execution_count": null,
      "outputs": [
        {
          "output_type": "stream",
          "name": "stdout",
          "text": [
            "Mounted at /content/drive\n"
          ]
        }
      ]
    },
    {
      "cell_type": "code",
      "metadata": {
        "id": "pjb_UJNgY72g"
      },
      "source": [
        "import pandas as pd"
      ],
      "execution_count": null,
      "outputs": []
    },
    {
      "cell_type": "code",
      "metadata": {
        "id": "hgHd06csY8sY"
      },
      "source": [
        "path =  \"/content/drive/MyDrive/bq-results-20211020-124020-s66814vnga07/bq-results-20211020-124020-s66814vnga07.csv\""
      ],
      "execution_count": null,
      "outputs": []
    },
    {
      "cell_type": "code",
      "metadata": {
        "id": "m4lfDI1ids92"
      },
      "source": [
        "path_e = '/content/dataframe_entities.csv'"
      ],
      "execution_count": null,
      "outputs": []
    },
    {
      "cell_type": "code",
      "metadata": {
        "id": "fYy6vfa0lswl"
      },
      "source": [
        "path_n = \"/content/drive/MyDrive/bq-results-20211108-093244-wt2pix39kvn1/bq-results-20211108-093244-wt2pix39kvn1.csv\""
      ],
      "execution_count": null,
      "outputs": []
    },
    {
      "cell_type": "code",
      "metadata": {
        "id": "HexTBbDHZ93d"
      },
      "source": [
        "df_e = pd.read_csv(path_e)"
      ],
      "execution_count": null,
      "outputs": []
    },
    {
      "cell_type": "code",
      "metadata": {
        "id": "x5Ar4ydR3PVv"
      },
      "source": [
        "dfe_ = df_e[df_e['entities'] != '500']"
      ],
      "execution_count": null,
      "outputs": []
    },
    {
      "cell_type": "code",
      "metadata": {
        "id": "viUx4-L55dtA"
      },
      "source": [
        "dfe_ = dfe_[dfe_['entities'] != '[]']"
      ],
      "execution_count": null,
      "outputs": []
    },
    {
      "cell_type": "code",
      "metadata": {
        "colab": {
          "base_uri": "https://localhost:8080/",
          "height": 69
        },
        "id": "0csI-uBEfZ5q",
        "outputId": "71ba0946-ec77-4362-8624-93a02182b95e"
      },
      "source": [
        "df_e['entities'][4]"
      ],
      "execution_count": null,
      "outputs": [
        {
          "output_type": "execute_result",
          "data": {
            "application/vnd.google.colaboratory.intrinsic+json": {
              "type": "string"
            },
            "text/plain": [
              "\"[{'word': 'palpitaciones', 'entity_group': 'antecedentes', 'score': 0.999999046, 'start': 39, 'end': 52, 'label_uma': 'Palpitaciones', 'concept_id': 80313002}, {'word': 'asma', 'entity_group': 'antecedentes', 'score': 0.999999523, 'start': 156, 'end': 160, 'label_uma': 'Asma', 'concept_id': 195967001}]\""
            ]
          },
          "metadata": {},
          "execution_count": 90
        }
      ]
    },
    {
      "cell_type": "code",
      "metadata": {
        "colab": {
          "base_uri": "https://localhost:8080/"
        },
        "id": "3qnpOAEP4e_8",
        "outputId": "43b16f9e-d501-4eea-923b-c49f612f500e"
      },
      "source": [
        "entities2label(df_e['entities'][4])"
      ],
      "execution_count": null,
      "outputs": [
        {
          "output_type": "execute_result",
          "data": {
            "text/plain": [
              "['Palpitaciones', 'Asma']"
            ]
          },
          "metadata": {},
          "execution_count": 93
        }
      ]
    },
    {
      "cell_type": "code",
      "metadata": {
        "id": "fTHuHg3J3mHs"
      },
      "source": [
        "def entities2label(txt):\n",
        "  final = []\n",
        "  print(txt)\n",
        "  array = eval(txt)\n",
        "  if len(array) > 1:\n",
        "    for a in array:\n",
        "      final.append(a['label_uma'])\n",
        "  else:\n",
        "    for a in array[0]:\n",
        "      final.append(a['label_uma'])\n",
        "  return final\n",
        "\n"
      ],
      "execution_count": null,
      "outputs": []
    },
    {
      "cell_type": "code",
      "metadata": {
        "colab": {
          "base_uri": "https://localhost:8080/"
        },
        "id": "hqjT-PH7DBAf",
        "outputId": "32203977-e977-4e82-c695-9626236521a6"
      },
      "source": [
        "dfe_['labels'][4]"
      ],
      "execution_count": null,
      "outputs": [
        {
          "output_type": "execute_result",
          "data": {
            "text/plain": [
              "['Palpitaciones', 'Asma']"
            ]
          },
          "metadata": {},
          "execution_count": 119
        }
      ]
    },
    {
      "cell_type": "code",
      "metadata": {
        "colab": {
          "base_uri": "https://localhost:8080/",
          "height": 35
        },
        "id": "vT_MVrxXDEyl",
        "outputId": "8c562b97-f371-440a-f1b7-af29a92a303f"
      },
      "source": [
        "list2string(dfe_['labels'][4])"
      ],
      "execution_count": null,
      "outputs": [
        {
          "output_type": "execute_result",
          "data": {
            "application/vnd.google.colaboratory.intrinsic+json": {
              "type": "string"
            },
            "text/plain": [
              "'Palpitaciones, Asma'"
            ]
          },
          "metadata": {},
          "execution_count": 122
        }
      ]
    },
    {
      "cell_type": "code",
      "metadata": {
        "id": "iewcqm466EHo"
      },
      "source": [
        "def list2string(lista):\n",
        "  return \",\".join(lista)"
      ],
      "execution_count": null,
      "outputs": []
    },
    {
      "cell_type": "code",
      "metadata": {
        "id": "dYQ_OO-3Imas"
      },
      "source": [
        "def remove_repeated(lista):\n",
        "  return list(set(lista))"
      ],
      "execution_count": null,
      "outputs": []
    },
    {
      "cell_type": "code",
      "metadata": {
        "colab": {
          "base_uri": "https://localhost:8080/"
        },
        "id": "XgBFKT2VIttD",
        "outputId": "6a28668d-862d-40fb-bb71-787ad7d4ac55"
      },
      "source": [
        "dfe_['labels_set'] = dfe_['labels'].apply(remove_repeated)"
      ],
      "execution_count": null,
      "outputs": [
        {
          "output_type": "stream",
          "name": "stderr",
          "text": [
            "/usr/local/lib/python3.7/dist-packages/ipykernel_launcher.py:1: SettingWithCopyWarning: \n",
            "A value is trying to be set on a copy of a slice from a DataFrame.\n",
            "Try using .loc[row_indexer,col_indexer] = value instead\n",
            "\n",
            "See the caveats in the documentation: https://pandas.pydata.org/pandas-docs/stable/user_guide/indexing.html#returning-a-view-versus-a-copy\n",
            "  \"\"\"Entry point for launching an IPython kernel.\n"
          ]
        }
      ]
    },
    {
      "cell_type": "code",
      "metadata": {
        "colab": {
          "base_uri": "https://localhost:8080/"
        },
        "id": "VkjO-41CDI_O",
        "outputId": "35891536-0a3b-4d39-8feb-6d41c9b4e90e"
      },
      "source": [
        "dfe_['labels_string'] = dfe_['labels_set'].apply(list2string)"
      ],
      "execution_count": null,
      "outputs": [
        {
          "output_type": "stream",
          "name": "stderr",
          "text": [
            "/usr/local/lib/python3.7/dist-packages/ipykernel_launcher.py:1: SettingWithCopyWarning: \n",
            "A value is trying to be set on a copy of a slice from a DataFrame.\n",
            "Try using .loc[row_indexer,col_indexer] = value instead\n",
            "\n",
            "See the caveats in the documentation: https://pandas.pydata.org/pandas-docs/stable/user_guide/indexing.html#returning-a-view-versus-a-copy\n",
            "  \"\"\"Entry point for launching an IPython kernel.\n"
          ]
        }
      ]
    },
    {
      "cell_type": "code",
      "metadata": {
        "id": "cQjVWFpjDNaY"
      },
      "source": [
        "new_df = dfe_['labels_string'].str.get_dummies(sep=',')"
      ],
      "execution_count": null,
      "outputs": []
    },
    {
      "cell_type": "code",
      "metadata": {
        "colab": {
          "base_uri": "https://localhost:8080/"
        },
        "id": "1RTis69GFWAk",
        "outputId": "f03eeb78-3403-4db2-d13b-cdc59b1bb61c"
      },
      "source": [
        "len(dfe_)"
      ],
      "execution_count": null,
      "outputs": [
        {
          "output_type": "execute_result",
          "data": {
            "text/plain": [
              "1639"
            ]
          },
          "metadata": {},
          "execution_count": 139
        }
      ]
    },
    {
      "cell_type": "code",
      "metadata": {
        "colab": {
          "base_uri": "https://localhost:8080/"
        },
        "id": "9H3WbuB4E4zJ",
        "outputId": "b0b02a3c-3764-4a85-a287-1b74a2e7ee02"
      },
      "source": [
        "len(dfe_.columns)"
      ],
      "execution_count": null,
      "outputs": [
        {
          "output_type": "execute_result",
          "data": {
            "text/plain": [
              "11"
            ]
          },
          "metadata": {},
          "execution_count": 136
        }
      ]
    },
    {
      "cell_type": "code",
      "metadata": {
        "colab": {
          "base_uri": "https://localhost:8080/"
        },
        "id": "Ug_KATeoE8IR",
        "outputId": "7b1fdfba-d462-4212-f3c2-8b011c4108fb"
      },
      "source": [
        "len(new_df.columns)"
      ],
      "execution_count": null,
      "outputs": [
        {
          "output_type": "execute_result",
          "data": {
            "text/plain": [
              "255"
            ]
          },
          "metadata": {},
          "execution_count": 137
        }
      ]
    },
    {
      "cell_type": "code",
      "metadata": {
        "id": "oEkVhOsk5Rg4"
      },
      "source": [
        "dfe_['labels'] = dfe_['entities'].apply(entities2label)"
      ],
      "execution_count": null,
      "outputs": []
    },
    {
      "cell_type": "code",
      "metadata": {
        "colab": {
          "base_uri": "https://localhost:8080/"
        },
        "id": "4wAZq1e2lvPK",
        "outputId": "27c1598c-bda5-4b11-8db1-a405f644eb53"
      },
      "source": [
        "df_n = pd.read_csv(path_n)"
      ],
      "execution_count": null,
      "outputs": [
        {
          "output_type": "stream",
          "name": "stderr",
          "text": [
            "/usr/local/lib/python3.7/dist-packages/IPython/core/interactiveshell.py:2718: DtypeWarning: Columns (5) have mixed types.Specify dtype option on import or set low_memory=False.\n",
            "  interactivity=interactivity, compiler=compiler, result=result)\n"
          ]
        }
      ]
    },
    {
      "cell_type": "code",
      "metadata": {
        "colab": {
          "base_uri": "https://localhost:8080/"
        },
        "id": "6KrXVU45lxb1",
        "outputId": "0b39b339-af5e-446c-9dab-b255d85ae1d8"
      },
      "source": [
        "len(df_n)"
      ],
      "execution_count": null,
      "outputs": [
        {
          "output_type": "execute_result",
          "data": {
            "text/plain": [
              "807133"
            ]
          },
          "metadata": {},
          "execution_count": 14
        }
      ]
    },
    {
      "cell_type": "code",
      "metadata": {
        "id": "9mxELhSLorZf"
      },
      "source": [
        "df_n = df_n[df_n['mr_epicrisis'].notnull()]"
      ],
      "execution_count": null,
      "outputs": []
    },
    {
      "cell_type": "code",
      "metadata": {
        "colab": {
          "base_uri": "https://localhost:8080/"
        },
        "id": "MLMvjajQmJzV",
        "outputId": "4cae9e5b-6321-4bf3-919a-65eafefec4ce"
      },
      "source": [
        "df2 = df_n.groupby('patient_uid', as_index=False)['mr_epicrisis', 'mr_tratamiento', 'especialidad'].agg(lambda x: list(x))"
      ],
      "execution_count": null,
      "outputs": [
        {
          "output_type": "stream",
          "name": "stderr",
          "text": [
            "/usr/local/lib/python3.7/dist-packages/ipykernel_launcher.py:1: FutureWarning: Indexing with multiple keys (implicitly converted to a tuple of keys) will be deprecated, use a list instead.\n",
            "  \"\"\"Entry point for launching an IPython kernel.\n"
          ]
        }
      ]
    },
    {
      "cell_type": "code",
      "metadata": {
        "colab": {
          "base_uri": "https://localhost:8080/",
          "height": 69
        },
        "id": "xZHX5ujVmPdH",
        "outputId": "44484999-f13e-4308-f7ed-4629ff2197a3"
      },
      "source": [
        "df2['uni'][1]"
      ],
      "execution_count": null,
      "outputs": [
        {
          "output_type": "execute_result",
          "data": {
            "application/vnd.google.colaboratory.intrinsic+json": {
              "type": "string"
            },
            "text/plain": [
              "'paciente refiere mialgias tos cefalea fiebre motivo por el cual se comunica se recomienda control en 48 horas refeire cuadro de 24 hroas de mialgias cefalea fiebre y anosmia se indica aislamiento preventivo control en 72 horas apra realizar orden de hisopado paciente con sintomatolgica covid no requiere hisopado segun protovolo paciente llama para reclamar por certificado de trabajo'"
            ]
          },
          "metadata": {},
          "execution_count": 49
        }
      ]
    },
    {
      "cell_type": "code",
      "metadata": {
        "id": "ZZh4zrP6qgoa"
      },
      "source": [
        "def unificar(a):\n",
        "  string = ''\n",
        "  for texto in a:\n",
        "    string += texto\n",
        "  return string"
      ],
      "execution_count": null,
      "outputs": []
    },
    {
      "cell_type": "code",
      "metadata": {
        "id": "PoZiM9_GqlSQ"
      },
      "source": [
        "df2['uni'] = df2['mr_epicrisis'].apply(unificar)"
      ],
      "execution_count": null,
      "outputs": []
    },
    {
      "cell_type": "code",
      "metadata": {
        "colab": {
          "base_uri": "https://localhost:8080/"
        },
        "id": "0OLz1pQ91FdR",
        "outputId": "ddef71a3-a576-4250-9aa9-ec7e79f0e6b1"
      },
      "source": [
        "pip install unidecode"
      ],
      "execution_count": null,
      "outputs": [
        {
          "output_type": "stream",
          "name": "stdout",
          "text": [
            "Collecting unidecode\n",
            "  Downloading Unidecode-1.3.2-py3-none-any.whl (235 kB)\n",
            "\u001b[?25l\r\u001b[K     |█▍                              | 10 kB 16.2 MB/s eta 0:00:01\r\u001b[K     |██▉                             | 20 kB 18.4 MB/s eta 0:00:01\r\u001b[K     |████▏                           | 30 kB 12.8 MB/s eta 0:00:01\r\u001b[K     |█████▋                          | 40 kB 10.5 MB/s eta 0:00:01\r\u001b[K     |███████                         | 51 kB 5.4 MB/s eta 0:00:01\r\u001b[K     |████████▍                       | 61 kB 5.4 MB/s eta 0:00:01\r\u001b[K     |█████████▊                      | 71 kB 5.6 MB/s eta 0:00:01\r\u001b[K     |███████████▏                    | 81 kB 6.2 MB/s eta 0:00:01\r\u001b[K     |████████████▌                   | 92 kB 4.8 MB/s eta 0:00:01\r\u001b[K     |██████████████                  | 102 kB 5.2 MB/s eta 0:00:01\r\u001b[K     |███████████████▎                | 112 kB 5.2 MB/s eta 0:00:01\r\u001b[K     |████████████████▊               | 122 kB 5.2 MB/s eta 0:00:01\r\u001b[K     |██████████████████              | 133 kB 5.2 MB/s eta 0:00:01\r\u001b[K     |███████████████████▌            | 143 kB 5.2 MB/s eta 0:00:01\r\u001b[K     |████████████████████▉           | 153 kB 5.2 MB/s eta 0:00:01\r\u001b[K     |██████████████████████▎         | 163 kB 5.2 MB/s eta 0:00:01\r\u001b[K     |███████████████████████▋        | 174 kB 5.2 MB/s eta 0:00:01\r\u001b[K     |█████████████████████████       | 184 kB 5.2 MB/s eta 0:00:01\r\u001b[K     |██████████████████████████▍     | 194 kB 5.2 MB/s eta 0:00:01\r\u001b[K     |███████████████████████████▉    | 204 kB 5.2 MB/s eta 0:00:01\r\u001b[K     |█████████████████████████████▏  | 215 kB 5.2 MB/s eta 0:00:01\r\u001b[K     |██████████████████████████████▋ | 225 kB 5.2 MB/s eta 0:00:01\r\u001b[K     |████████████████████████████████| 235 kB 5.2 MB/s eta 0:00:01\r\u001b[K     |████████████████████████████████| 235 kB 5.2 MB/s \n",
            "\u001b[?25hInstalling collected packages: unidecode\n",
            "Successfully installed unidecode-1.3.2\n"
          ]
        }
      ]
    },
    {
      "cell_type": "code",
      "metadata": {
        "id": "5VghufH8q_eB"
      },
      "source": [
        "import unidecode\n",
        "df2['uni'] = df2['uni'].apply(unidecode.unidecode)"
      ],
      "execution_count": null,
      "outputs": []
    },
    {
      "cell_type": "code",
      "metadata": {
        "id": "krnuu5o94UnU"
      },
      "source": [
        "df2['uni'] = df2['uni'].str.replace('\\n', ' ')"
      ],
      "execution_count": null,
      "outputs": []
    },
    {
      "cell_type": "code",
      "metadata": {
        "id": "6xvpUAI34ZFO"
      },
      "source": [
        "df2['uni'] = df2['uni'].str.lower()"
      ],
      "execution_count": null,
      "outputs": []
    },
    {
      "cell_type": "code",
      "metadata": {
        "id": "S-c8WQh7dLtp"
      },
      "source": [
        "import re\n",
        "df2['uni'] = df2['uni'].apply(remove_symbols)"
      ],
      "execution_count": null,
      "outputs": []
    },
    {
      "cell_type": "code",
      "metadata": {
        "id": "xaaqcgE3c6M_"
      },
      "source": [
        "def remove_symbols(txt):\n",
        "  return re.sub(r'[^\\w]', ' ', txt)"
      ],
      "execution_count": null,
      "outputs": []
    },
    {
      "cell_type": "code",
      "metadata": {
        "id": "eSjtfn18rM0m"
      },
      "source": [
        "import re\n",
        "re.sub(' +', ' ', 'The     quick brown    fox')\n",
        "def remove_spaces(txt):\n",
        "  txt = txt.strip()\n",
        "  return re.sub(' +', ' ', txt)"
      ],
      "execution_count": null,
      "outputs": []
    },
    {
      "cell_type": "code",
      "metadata": {
        "id": "9WiyrWthrago"
      },
      "source": [
        "df2['uni'] = df2['uni'].apply(remove_spaces)"
      ],
      "execution_count": null,
      "outputs": []
    },
    {
      "cell_type": "code",
      "metadata": {
        "id": "16ptuuDWrtIf"
      },
      "source": [
        "df2.to_csv('df_epicrisis_for_ner.csv')"
      ],
      "execution_count": null,
      "outputs": []
    },
    {
      "cell_type": "code",
      "metadata": {
        "id": "kYpewmMuXIMT"
      },
      "source": [
        "df = df1.groupby('mr_motivos_de_consulta', group_keys=False).apply(lambda x: x.sample(min(len(x), 200)))"
      ],
      "execution_count": null,
      "outputs": []
    },
    {
      "cell_type": "code",
      "metadata": {
        "id": "tqjkj-M1vPnq"
      },
      "source": [
        "df = df[df['mr_epicrisis'].notnull()]\n",
        "df = df[df['mr_diagnostico'].notnull()]"
      ],
      "execution_count": null,
      "outputs": []
    },
    {
      "cell_type": "code",
      "metadata": {
        "id": "YyRZsXyOzFTm"
      },
      "source": [
        "import unidecode\n",
        "import re\n",
        "def clean_txt(text):\n",
        "    text = text.lower()\n",
        "    text = unidecode.unidecode(text)\n",
        "    text = re.sub(\"'\", \"\",text)\n",
        "    text=re.sub(\"(\\\\d|\\\\W)+\",\" \",text)  \n",
        "    text = re.sub(' +', ' ', text)  \n",
        "    return text.strip()"
      ],
      "execution_count": null,
      "outputs": []
    },
    {
      "cell_type": "code",
      "metadata": {
        "id": "blLCKBgyACeS"
      },
      "source": [
        "df['total'] = df['mr_epicrisis'] + \" \" + df['mr_diagnostico']"
      ],
      "execution_count": null,
      "outputs": []
    },
    {
      "cell_type": "code",
      "metadata": {
        "id": "v8VdbOlJzPE8"
      },
      "source": [
        "df['total'] = df['total'].apply(clean_txt)"
      ],
      "execution_count": null,
      "outputs": []
    },
    {
      "cell_type": "code",
      "metadata": {
        "id": "wI_XrtMsZ_3H"
      },
      "source": [
        "df['patient_sex'] = df['patient_sex'].replace('F', 0)"
      ],
      "execution_count": null,
      "outputs": []
    },
    {
      "cell_type": "code",
      "metadata": {
        "id": "0ejrKofp0JAn"
      },
      "source": [
        "df['patient_sex'] = df['patient_sex'].replace('M', 1)"
      ],
      "execution_count": null,
      "outputs": []
    },
    {
      "cell_type": "code",
      "metadata": {
        "id": "01tkIYTk0-Rm"
      },
      "source": [
        "df['patient_sex'] = df['patient_sex'].replace('Otro', 0)"
      ],
      "execution_count": null,
      "outputs": []
    },
    {
      "cell_type": "code",
      "metadata": {
        "id": "fgZHUA6J1GUY"
      },
      "source": [
        "df['patient_sex'] = df['patient_sex'].replace('O', 0)"
      ],
      "execution_count": null,
      "outputs": []
    },
    {
      "cell_type": "code",
      "metadata": {
        "id": "Q3yQhUfl0nfx"
      },
      "source": [
        "df = df.dropna(subset=['patient_age'])"
      ],
      "execution_count": null,
      "outputs": []
    },
    {
      "cell_type": "code",
      "metadata": {
        "id": "8toNYtlG0t02"
      },
      "source": [
        "df = df.dropna(subset=['patient_sex'])"
      ],
      "execution_count": null,
      "outputs": []
    },
    {
      "cell_type": "code",
      "metadata": {
        "id": "0QeoOPLe1LeR"
      },
      "source": [
        "df['patient_age'] = df['patient_age'].astype(int)"
      ],
      "execution_count": null,
      "outputs": []
    },
    {
      "cell_type": "code",
      "metadata": {
        "id": "Mh5kfCmg_4rg"
      },
      "source": [
        "df['patient_sex'] = df['patient_sex'].astype(int)"
      ],
      "execution_count": null,
      "outputs": []
    },
    {
      "cell_type": "code",
      "metadata": {
        "id": "2yCkV8wIetK4"
      },
      "source": [
        "df1 = df[df.groupby(\"especialidad\")['especialidad'].transform('size') > 1]"
      ],
      "execution_count": null,
      "outputs": []
    },
    {
      "cell_type": "code",
      "metadata": {
        "colab": {
          "base_uri": "https://localhost:8080/"
        },
        "id": "jn5RHjK-dWHF",
        "outputId": "c61203f4-e5b2-4444-cd27-1cb8fc623849"
      },
      "source": [
        "df1.especialidad.value_counts()"
      ],
      "execution_count": null,
      "outputs": [
        {
          "output_type": "execute_result",
          "data": {
            "text/plain": [
              "ginecologia      965\n",
              "dermatologia     957\n",
              "pediatria        623\n",
              "traumatologia    468\n",
              "nutricionista    396\n",
              "cardiologia      337\n",
              "hematologia      130\n",
              "urologia         107\n",
              "diabetologia      63\n",
              "oftalmologia      23\n",
              "Name: especialidad, dtype: int64"
            ]
          },
          "metadata": {},
          "execution_count": 166
        }
      ]
    },
    {
      "cell_type": "code",
      "metadata": {
        "id": "NNumAhFcNjrC"
      },
      "source": [
        "from sklearn.model_selection import train_test_split\n",
        "X_train, X_test, y_train, y_test = train_test_split(df1[['patient_age', 'patient_sex', 'total']], df1['especialidad'], random_state = 0)"
      ],
      "execution_count": null,
      "outputs": []
    },
    {
      "cell_type": "code",
      "metadata": {
        "colab": {
          "base_uri": "https://localhost:8080/"
        },
        "id": "hlaks9GbMXqO",
        "outputId": "6652cfa0-a0ef-4058-ef81-de59767a84c0"
      },
      "source": [
        "from sklearn.feature_extraction.text import TfidfVectorizer\n",
        "from sklearn.svm import LinearSVC\n",
        "\n",
        "tfidf_transformer = TfidfVectorizer()\n",
        "X_train_tfidf = tfidf_transformer.fit_transform(X_train.total)\n",
        "X_train_tfidf.toarray().shape"
      ],
      "execution_count": null,
      "outputs": [
        {
          "output_type": "execute_result",
          "data": {
            "text/plain": [
              "(3051, 6400)"
            ]
          },
          "metadata": {},
          "execution_count": 168
        }
      ]
    },
    {
      "cell_type": "code",
      "metadata": {
        "id": "kOU4j7meOewP"
      },
      "source": [
        "import numpy as np\n",
        "x_train_all = np.concatenate((X_train_tfidf.toarray(), X_train[['patient_age', 'patient_sex']].to_numpy()), axis=1)"
      ],
      "execution_count": null,
      "outputs": []
    },
    {
      "cell_type": "code",
      "metadata": {
        "id": "jooLnRuERtNk",
        "colab": {
          "base_uri": "https://localhost:8080/"
        },
        "outputId": "5987808a-f355-4ff0-d434-e0a185f46e80"
      },
      "source": [
        "from sklearn.decomposition import TruncatedSVD\n",
        "from scipy.sparse import csr_matrix\n",
        "import numpy as np\n",
        "\n",
        "X = csr_matrix(x_train_all)\n",
        "svd = TruncatedSVD(300, random_state=42)\n",
        "x_truncated = svd.fit_transform(X)\n",
        "x_truncated"
      ],
      "execution_count": null,
      "outputs": [
        {
          "output_type": "execute_result",
          "data": {
            "text/plain": [
              "array([[ 3.00001881e+01,  7.77640212e-02, -5.30261562e-02, ...,\n",
              "         1.23148678e-02,  1.10894310e-02,  4.38460748e-02],\n",
              "       [ 5.10000169e+01,  1.70631726e-01,  7.00108203e-02, ...,\n",
              "        -7.51409397e-04, -2.78488941e-03, -5.49233456e-03],\n",
              "       [ 7.70028872e+01, -7.74574332e-01,  2.32341661e-02, ...,\n",
              "         6.55467661e-02,  1.79446826e-02, -4.29575119e-02],\n",
              "       ...,\n",
              "       [ 5.00320137e+00, -9.87057101e-01,  6.35129495e-03, ...,\n",
              "        -1.37355514e-03, -2.78239975e-02, -2.41660518e-03],\n",
              "       [ 7.00029437e+01, -7.95872776e-01,  8.78514076e-03, ...,\n",
              "        -1.76248733e-03,  9.66734338e-03, -9.55044731e-03],\n",
              "       [ 7.60000613e+01,  2.12678174e-01, -9.87709657e-02, ...,\n",
              "        -5.39139019e-02,  1.87331204e-04,  2.88029730e-02]])"
            ]
          },
          "metadata": {},
          "execution_count": 170
        }
      ]
    },
    {
      "cell_type": "code",
      "metadata": {
        "colab": {
          "base_uri": "https://localhost:8080/"
        },
        "id": "hH6ibPG2M2l9",
        "outputId": "996b5973-862e-425e-b307-2472ef00ef92"
      },
      "source": [
        "svc = LinearSVC().fit(x_truncated, y_train)"
      ],
      "execution_count": null,
      "outputs": [
        {
          "output_type": "stream",
          "name": "stderr",
          "text": [
            "/usr/local/lib/python3.7/dist-packages/sklearn/svm/_base.py:947: ConvergenceWarning: Liblinear failed to converge, increase the number of iterations.\n",
            "  \"the number of iterations.\", ConvergenceWarning)\n"
          ]
        }
      ]
    },
    {
      "cell_type": "code",
      "metadata": {
        "colab": {
          "base_uri": "https://localhost:8080/"
        },
        "id": "uHRze2E3HUQD",
        "outputId": "5c02a453-3efd-4435-b2d7-c9a72dc06716"
      },
      "source": [
        "x_train_all.shape"
      ],
      "execution_count": null,
      "outputs": [
        {
          "output_type": "execute_result",
          "data": {
            "text/plain": [
              "(3051, 6402)"
            ]
          },
          "metadata": {},
          "execution_count": 173
        }
      ]
    },
    {
      "cell_type": "code",
      "metadata": {
        "colab": {
          "base_uri": "https://localhost:8080/"
        },
        "id": "si064xt0HQoJ",
        "outputId": "b061a391-bbd5-451e-e807-e97ac954dae4"
      },
      "source": [
        "x_truncated.shape"
      ],
      "execution_count": null,
      "outputs": [
        {
          "output_type": "execute_result",
          "data": {
            "text/plain": [
              "(3051, 300)"
            ]
          },
          "metadata": {},
          "execution_count": 174
        }
      ]
    },
    {
      "cell_type": "code",
      "metadata": {
        "id": "tuMS2hU6RCkm"
      },
      "source": [
        "<texto_tfidf.toarray().tolist()\n",
        "# https://scikit-learn.org/stable/modules/generated/sklearn.decomposition.TruncatedSVD.html\n",
        "\n",
        "# con word embeddings probar con tisny"
      ],
      "execution_count": null,
      "outputs": []
    },
    {
      "cell_type": "code",
      "metadata": {
        "colab": {
          "base_uri": "https://localhost:8080/"
        },
        "id": "RTD5WAbgKcAY",
        "outputId": "215d9c00-1562-447e-b198-049dbc91c5c8"
      },
      "source": [
        "texto = \"pac con acne en rostro y tronco no refiere antec patologicos ni alergicos derm otros signos sintomas de la piel y faneras\"\n",
        "texto_tfidf = tfidf_transformer.transform([texto])\n",
        "texto_tfidf.toarray()\n",
        "patient_info = np.array([[25, 1]])\n",
        "patient_input = np.concatenate((texto_tfidf.toarray(), patient_info), axis=1)\n",
        "X = csr_matrix(patient_input)\n",
        "inp = svd.transform(X)\n",
        "svc.predict(inp)"
      ],
      "execution_count": null,
      "outputs": [
        {
          "output_type": "execute_result",
          "data": {
            "text/plain": [
              "array(['dermatologia'], dtype=object)"
            ]
          },
          "metadata": {},
          "execution_count": 172
        }
      ]
    },
    {
      "cell_type": "code",
      "metadata": {
        "id": "DaxbCMn6b6QC"
      },
      "source": [
        "def predict_function(arr):\n",
        "  texto_tfidf = tfidf_transformer.transform([arr[2]])\n",
        "  texto_tfidf.toarray()\n",
        "  patient_info = np.array([[arr[0], arr[1]]])\n",
        "  patient_input = np.concatenate((texto_tfidf.toarray(), patient_info), axis=1)\n",
        "  X = csr_matrix(patient_input)\n",
        "  inp = svd.transform(X)\n",
        "  return svc.predict(inp)[0]"
      ],
      "execution_count": null,
      "outputs": []
    },
    {
      "cell_type": "code",
      "metadata": {
        "id": "ANrNPd-2cTrs"
      },
      "source": [
        "y_test = list(y_test.values)"
      ],
      "execution_count": null,
      "outputs": []
    },
    {
      "cell_type": "code",
      "metadata": {
        "colab": {
          "base_uri": "https://localhost:8080/"
        },
        "id": "Eq3e7eKOcaLv",
        "outputId": "370e836c-8866-4eba-90d1-b1e78e033f38"
      },
      "source": [
        "len(y_test)"
      ],
      "execution_count": null,
      "outputs": [
        {
          "output_type": "execute_result",
          "data": {
            "text/plain": [
              "1018"
            ]
          },
          "metadata": {},
          "execution_count": 178
        }
      ]
    },
    {
      "cell_type": "code",
      "metadata": {
        "id": "8pVy988ccb4Q"
      },
      "source": [
        "array = []\n",
        "for x in X_test.values:\n",
        "  array.append(predict_function(x))"
      ],
      "execution_count": null,
      "outputs": []
    },
    {
      "cell_type": "code",
      "metadata": {
        "colab": {
          "base_uri": "https://localhost:8080/"
        },
        "id": "dInDQanqdDNL",
        "outputId": "2bdbd7ed-839d-4fed-8235-2c45b1127b61"
      },
      "source": [
        "list(df1.especialidad.unique())"
      ],
      "execution_count": null,
      "outputs": [
        {
          "output_type": "execute_result",
          "data": {
            "text/plain": [
              "['dermatologia',\n",
              " 'pediatria',\n",
              " 'cardiologia',\n",
              " 'traumatologia',\n",
              " 'ginecologia',\n",
              " 'urologia',\n",
              " 'oftalmologia',\n",
              " 'nutricionista',\n",
              " 'hematologia',\n",
              " 'diabetologia']"
            ]
          },
          "metadata": {},
          "execution_count": 180
        }
      ]
    },
    {
      "cell_type": "code",
      "metadata": {
        "id": "xDCKov3wbRd6"
      },
      "source": [
        "target_names = list(df1.especialidad.unique())"
      ],
      "execution_count": null,
      "outputs": []
    },
    {
      "cell_type": "code",
      "metadata": {
        "colab": {
          "base_uri": "https://localhost:8080/",
          "height": 357
        },
        "id": "Nnyee6CLazQy",
        "outputId": "fa8b7108-78ce-45f5-cffb-460a52381f08"
      },
      "source": [
        "from sklearn.metrics import confusion_matrix\n",
        "import matplotlib.pyplot as plt\n",
        "\n",
        "import seaborn as sns\n",
        "mat = confusion_matrix(y_test, array)\n",
        "sns.heatmap(mat.T, square=True, annot=True, fmt='d', cbar=False, xticklabels=target_names,yticklabels=target_names)\n",
        "\n",
        "plt.xlabel('true label')\n",
        "plt.ylabel('predicted label')"
      ],
      "execution_count": null,
      "outputs": [
        {
          "output_type": "execute_result",
          "data": {
            "text/plain": [
              "Text(91.68, 0.5, 'predicted label')"
            ]
          },
          "metadata": {},
          "execution_count": 182
        },
        {
          "output_type": "display_data",
          "data": {
            "image/png": "[encoded data removed]",
            "text/plain": [
              "<Figure size 432x288 with 1 Axes>"
            ]
          },
          "metadata": {
            "needs_background": "light"
          }
        }
      ]
    },
    {
      "cell_type": "code",
      "metadata": {
        "colab": {
          "base_uri": "https://localhost:8080/"
        },
        "id": "uiCBDAYHCBQN",
        "outputId": "8697d8d3-c253-4d88-83c4-cd6fa29075e9"
      },
      "source": [
        "from sklearn.metrics import classification_report\n",
        "print(classification_report(y_test,array))"
      ],
      "execution_count": null,
      "outputs": [
        {
          "output_type": "stream",
          "name": "stdout",
          "text": [
            "               precision    recall  f1-score   support\n",
            "\n",
            "  cardiologia       0.97      0.76      0.85        92\n",
            " dermatologia       0.87      0.98      0.92       215\n",
            " diabetologia       1.00      0.71      0.83        14\n",
            "  ginecologia       0.92      0.96      0.94       270\n",
            "  hematologia       1.00      0.96      0.98        26\n",
            "nutricionista       0.92      0.98      0.95        97\n",
            " oftalmologia       0.67      0.20      0.31        10\n",
            "    pediatria       0.95      0.94      0.94       152\n",
            "traumatologia       0.98      0.94      0.96       117\n",
            "     urologia       0.81      0.68      0.74        25\n",
            "\n",
            "     accuracy                           0.92      1018\n",
            "    macro avg       0.91      0.81      0.84      1018\n",
            " weighted avg       0.92      0.92      0.92      1018\n",
            "\n"
          ]
        }
      ]
    }
  ]
}